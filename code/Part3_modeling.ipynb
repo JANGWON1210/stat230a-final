{
 "cells": [
  {
   "cell_type": "code",
   "execution_count": 17,
   "id": "ac7ec18c",
   "metadata": {},
   "outputs": [],
   "source": [
    "import numpy as np\n",
    "import pandas as pd\n",
    "import matplotlib.pyplot as plt\n",
    "from sklearn.model_selection import train_test_split\n",
    "from sklearn.preprocessing import KBinsDiscretizer\n",
    "import statsmodels.api as sm\n",
    "import scipy.stats as stats\n",
    "from statsmodels.stats.outliers_influence import variance_inflation_factor\n",
    "from statsmodels.genmod.families import Gamma\n",
    "from statsmodels.genmod.families.links import log as log_link\n",
    "from statsmodels.genmod.generalized_estimating_equations import GEE\n",
    "from statsmodels.genmod.cov_struct import Independence\n",
    "from statsmodels.miscmodels.ordinal_model import OrderedModel\n",
    "from sklearn.linear_model import RidgeCV, LassoCV\n",
    "from sklearn.metrics import mean_squared_error"
   ]
  },
  {
   "cell_type": "markdown",
   "id": "6e68f4d5",
   "metadata": {},
   "source": [
    "<h1>Feature engineering<h1>"
   ]
  },
  {
   "cell_type": "code",
   "execution_count": 2,
   "id": "be9b443f",
   "metadata": {},
   "outputs": [
    {
     "name": "stdout",
     "output_type": "stream",
     "text": [
      "439\n"
     ]
    }
   ],
   "source": [
    "df = pd.read_csv(\"hdb_with_mrt_info.csv\")\n",
    "\n",
    "# Count occurrences of each street name\n",
    "street_counts = df['street_name'].value_counts()\n",
    "\n",
    "# Filter to keep only street names with at least 100 observations\n",
    "valid_streets = street_counts[street_counts >= 100].index\n",
    "df = df[df['street_name'].isin(valid_streets)]\n",
    "\n",
    "# Number of unique street names remaining\n",
    "num_unique_streets = df['street_name'].nunique()\n",
    "print(num_unique_streets)"
   ]
  },
  {
   "cell_type": "markdown",
   "id": "dd2de818",
   "metadata": {},
   "source": [
    "We need to transform categorical variables into numerical variables. We will one-hot encode town and street_name, and ordinal encode flat_type, distance_from_expressway and storey_range since these variables have underlying rank. "
   ]
  },
  {
   "cell_type": "code",
   "execution_count": 3,
   "id": "638cd277",
   "metadata": {},
   "outputs": [
    {
     "name": "stdout",
     "output_type": "stream",
     "text": [
      "(211584, 25)\n",
      "Reference category for town is: ANG MO KIO\n"
     ]
    }
   ],
   "source": [
    "town_oh = pd.get_dummies(df['town'], prefix='town', drop_first=True)\n",
    "# street_oh = pd.get_dummies(df['street_name'], prefix='street', drop_first=True)\n",
    "\n",
    "print(town_oh.shape)\n",
    "# print(street_oh.shape)\n",
    "\n",
    "ref_town = sorted(df['town'].unique())[0]\n",
    "print(f\"Reference category for town is: {ref_town}\")\n",
    "\n",
    "# ref_street = sorted(df['street_name'].unique())[0]\n",
    "# print(f\"Reference category for street is: {ref_street}\")"
   ]
  },
  {
   "cell_type": "code",
   "execution_count": 4,
   "id": "ea3abc53",
   "metadata": {},
   "outputs": [
    {
     "name": "stdout",
     "output_type": "stream",
     "text": [
      "  flat_type  flat_type_ord\n",
      "0    2 ROOM              2\n",
      "1    3 ROOM              3\n",
      "2    3 ROOM              3\n",
      "3    3 ROOM              3\n",
      "4    3 ROOM              3\n",
      "  distance_from_expressway  distance_expressway_ord\n",
      "0                    >500m                        6\n",
      "1                    >500m                        6\n",
      "2                    >500m                        6\n",
      "3                 151-300m                        4\n",
      "4                    >500m                        6\n",
      "  storey_range  storey_range_ord\n",
      "0     10 TO 12                 4\n",
      "1     01 TO 03                 1\n",
      "2     01 TO 03                 1\n",
      "3     04 TO 06                 2\n",
      "4     01 TO 03                 1\n"
     ]
    }
   ],
   "source": [
    "# Ordinal encode flat_type\n",
    "flat_order = [\"1 ROOM\", \"2 ROOM\", \"3 ROOM\", \"4 ROOM\", \"5 ROOM\", \"EXECUTIVE\", \"MULTI-GENERATION\"]\n",
    "df['flat_type'] = pd.Categorical(df['flat_type'], categories=flat_order, ordered=True)\n",
    "df['flat_type_ord'] = df['flat_type'].cat.codes + 1  # +1 to match R's 1-based index\n",
    "\n",
    "# Ordinal encode distance_from_expressway\n",
    "expressway_levels = [\"<=50m\", \"51-100m\", \"101-150m\", \"151-300m\", \"301-500m\", \">500m\"]\n",
    "df['distance_from_expressway'] = pd.Categorical(df['distance_from_expressway'],\n",
    "                                                categories=expressway_levels, ordered=True)\n",
    "df['distance_expressway_ord'] = df['distance_from_expressway'].cat.codes + 1\n",
    "\n",
    "# Ordinal encode storey_range\n",
    "storey_levels = [\n",
    "    \"01 TO 03\", \"04 TO 06\", \"07 TO 09\", \"10 TO 12\", \"13 TO 15\",\n",
    "    \"16 TO 18\", \"19 TO 21\", \"22 TO 24\", \"25 TO 27\", \"28 TO 30\",\n",
    "    \"31 TO 33\", \"34 TO 36\", \"37 TO 39\", \"40 TO 42\", \"43 TO 45\",\n",
    "    \"46 TO 48\", \"49 TO 51\"\n",
    "]\n",
    "df['storey_range'] = pd.Categorical(df['storey_range'], categories=storey_levels, ordered=True)\n",
    "df['storey_range_ord'] = df['storey_range'].cat.codes + 1\n",
    "\n",
    "\n",
    "print(df[['flat_type', 'flat_type_ord']].head())\n",
    "print(df[['distance_from_expressway', 'distance_expressway_ord']].head())\n",
    "print(df[['storey_range', 'storey_range_ord']].head())"
   ]
  },
  {
   "cell_type": "code",
   "execution_count": 5,
   "id": "76fca606",
   "metadata": {},
   "outputs": [],
   "source": [
    "# merge df with one hot matrix\n",
    "df_final = pd.concat([df, town_oh], axis=1)\n",
    "\n",
    "# Drop unused categorical and spatial columns\n",
    "drop_cols = [\n",
    "    \"town\", \"flat_type\", \"block\", \"street_name\", \"storey_range\",\n",
    "    \"storey_range_category\", \"distance_from_expressway\", \"latitude\", \n",
    "    \"longitude\", \"address\", \"postal\", \"nearest_mrt\"\n",
    "]"
   ]
  },
  {
   "cell_type": "code",
   "execution_count": 6,
   "id": "617a62e0",
   "metadata": {},
   "outputs": [
    {
     "name": "stdout",
     "output_type": "stream",
     "text": [
      "Index(['year', 'floor_area_sqm', 'remaining_lease_years', 'resale_price',\n",
      "       'num_nearby_mrts', 'nearest_mrt_distance', 'flat_type_ord',\n",
      "       'distance_expressway_ord', 'storey_range_ord', 'town_BEDOK',\n",
      "       'town_BISHAN', 'town_BUKIT BATOK', 'town_BUKIT MERAH',\n",
      "       'town_BUKIT PANJANG', 'town_BUKIT TIMAH', 'town_CENTRAL AREA',\n",
      "       'town_CHOA CHU KANG', 'town_CLEMENTI', 'town_GEYLANG', 'town_HOUGANG',\n",
      "       'town_JURONG EAST', 'town_JURONG WEST', 'town_KALLANG/WHAMPOA',\n",
      "       'town_MARINE PARADE', 'town_PASIR RIS', 'town_PUNGGOL',\n",
      "       'town_QUEENSTOWN', 'town_SEMBAWANG', 'town_SENGKANG', 'town_SERANGOON',\n",
      "       'town_TAMPINES', 'town_TOA PAYOH', 'town_WOODLANDS', 'town_YISHUN'],\n",
      "      dtype='object')\n",
      "(211584, 34)\n"
     ]
    }
   ],
   "source": [
    "df_final = df_final.drop(columns=drop_cols, errors='ignore')\n",
    "df_final = df_final.astype({col: 'int' for col in df_final.select_dtypes(include='bool').columns})\n",
    "\n",
    "# Check final columns\n",
    "print(df_final.columns)\n",
    "print(df_final.shape)\n"
   ]
  },
  {
   "cell_type": "markdown",
   "id": "79282377",
   "metadata": {},
   "source": [
    "<h1>Modeling<h1>"
   ]
  },
  {
   "cell_type": "code",
   "execution_count": 7,
   "id": "d5099f63",
   "metadata": {},
   "outputs": [
    {
     "name": "stdout",
     "output_type": "stream",
     "text": [
      "(169267, 33) (42317, 33)\n",
      "(169267,) (42317,)\n"
     ]
    }
   ],
   "source": [
    "# Set random seed\n",
    "random_state = 123\n",
    "\n",
    "# Split the final dataframe\n",
    "X = df_final.drop(columns='resale_price')\n",
    "y = df_final['resale_price']\n",
    "\n",
    "X_train, X_test, y_train, y_test = train_test_split(\n",
    "    X, y, test_size=0.2, random_state=random_state\n",
    ")\n",
    "\n",
    "# check dimensions\n",
    "print(X_train.shape, X_test.shape)\n",
    "print(y_train.shape, y_test.shape)"
   ]
  },
  {
   "cell_type": "code",
   "execution_count": 8,
   "id": "eaffb444",
   "metadata": {},
   "outputs": [
    {
     "name": "stdout",
     "output_type": "stream",
     "text": [
      "                            OLS Regression Results                            \n",
      "==============================================================================\n",
      "Dep. Variable:           resale_price   R-squared:                       0.847\n",
      "Model:                            OLS   Adj. R-squared:                  0.847\n",
      "Method:                 Least Squares   F-statistic:                 2.844e+04\n",
      "Date:                Tue, 13 May 2025   Prob (F-statistic):               0.00\n",
      "Time:                        03:19:43   Log-Likelihood:            -2.1198e+06\n",
      "No. Observations:              169267   AIC:                         4.240e+06\n",
      "Df Residuals:                  169233   BIC:                         4.240e+06\n",
      "Df Model:                          33                                         \n",
      "Covariance Type:            nonrobust                                         \n",
      "===========================================================================================\n",
      "                              coef    std err          t      P>|t|      [0.025      0.975]\n",
      "-------------------------------------------------------------------------------------------\n",
      "const                   -4.475e+07    1.2e+05   -372.018      0.000    -4.5e+07   -4.45e+07\n",
      "year                     2.199e+04     59.533    369.342      0.000    2.19e+04    2.21e+04\n",
      "floor_area_sqm           3894.0083     24.284    160.350      0.000    3846.411    3941.605\n",
      "remaining_lease_years    5217.2558     15.836    329.457      0.000    5186.218    5248.294\n",
      "num_nearby_mrts          4519.9723    160.510     28.160      0.000    4205.376    4834.569\n",
      "nearest_mrt_distance      -62.9860      0.599   -105.196      0.000     -64.160     -61.812\n",
      "flat_type_ord            2.301e+04    627.552     36.662      0.000    2.18e+04    2.42e+04\n",
      "distance_expressway_ord  6645.5852    152.891     43.466      0.000    6345.921    6945.249\n",
      "storey_range_ord         1.403e+04     92.170    152.205      0.000    1.38e+04    1.42e+04\n",
      "town_BEDOK              -1.676e+04   1034.494    -16.200      0.000   -1.88e+04   -1.47e+04\n",
      "town_BISHAN              9.251e+04   1434.401     64.494      0.000    8.97e+04    9.53e+04\n",
      "town_BUKIT BATOK         -8.42e+04   1140.227    -73.841      0.000   -8.64e+04    -8.2e+04\n",
      "town_BUKIT MERAH         8.681e+04   1180.515     73.533      0.000    8.45e+04    8.91e+04\n",
      "town_BUKIT PANJANG      -1.935e+05   1353.050   -142.984      0.000   -1.96e+05   -1.91e+05\n",
      "town_BUKIT TIMAH         1.822e+05   3527.078     51.646      0.000    1.75e+05    1.89e+05\n",
      "town_CENTRAL AREA        2.153e+05   2539.740     84.783      0.000     2.1e+05     2.2e+05\n",
      "town_CHOA CHU KANG      -2.022e+05   1139.594   -177.469      0.000   -2.04e+05      -2e+05\n",
      "town_CLEMENTI            4.414e+04   1322.603     33.372      0.000    4.15e+04    4.67e+04\n",
      "town_GEYLANG             1.673e+04   1367.496     12.232      0.000     1.4e+04    1.94e+04\n",
      "town_HOUGANG            -7.461e+04   1076.328    -69.317      0.000   -7.67e+04   -7.25e+04\n",
      "town_JURONG EAST        -5.779e+04   1359.559    -42.509      0.000   -6.05e+04   -5.51e+04\n",
      "town_JURONG WEST        -1.324e+05   1020.928   -129.687      0.000   -1.34e+05    -1.3e+05\n",
      "town_KALLANG/WHAMPOA     4.786e+04   1278.993     37.419      0.000    4.54e+04    5.04e+04\n",
      "town_MARINE PARADE       2.255e+05   2308.339     97.669      0.000    2.21e+05     2.3e+05\n",
      "town_PASIR RIS          -8.516e+04   1276.636    -66.707      0.000   -8.77e+04   -8.27e+04\n",
      "town_PUNGGOL                -2e+05   1403.535   -142.464      0.000   -2.03e+05   -1.97e+05\n",
      "town_QUEENSTOWN          8.153e+04   1284.905     63.448      0.000     7.9e+04     8.4e+04\n",
      "town_SEMBAWANG          -1.992e+05   1304.189   -152.752      0.000   -2.02e+05   -1.97e+05\n",
      "town_SENGKANG           -2.075e+05   1239.232   -167.418      0.000    -2.1e+05   -2.05e+05\n",
      "town_SERANGOON           2.498e+04   1442.047     17.321      0.000    2.22e+04    2.78e+04\n",
      "town_TAMPINES           -5.319e+04   1013.561    -52.475      0.000   -5.52e+04   -5.12e+04\n",
      "town_TOA PAYOH            4.46e+04   1202.506     37.089      0.000    4.22e+04     4.7e+04\n",
      "town_WOODLANDS          -1.734e+05   1022.365   -169.637      0.000   -1.75e+05   -1.71e+05\n",
      "town_YISHUN             -1.046e+05   1024.382   -102.082      0.000   -1.07e+05   -1.03e+05\n",
      "==============================================================================\n",
      "Omnibus:                    16013.042   Durbin-Watson:                   2.003\n",
      "Prob(Omnibus):                  0.000   Jarque-Bera (JB):            33084.843\n",
      "Skew:                           0.618   Prob(JB):                         0.00\n",
      "Kurtosis:                       4.779   Cond. No.                     1.58e+06\n",
      "==============================================================================\n",
      "\n",
      "Notes:\n",
      "[1] Standard Errors assume that the covariance matrix of the errors is correctly specified.\n",
      "[2] The condition number is large, 1.58e+06. This might indicate that there are\n",
      "strong multicollinearity or other numerical problems.\n",
      "Test RMSE (OLS): 66,565.32 SGD\n"
     ]
    }
   ],
   "source": [
    "# Fit OLS\n",
    "X_train_sm = sm.add_constant(X_train)\n",
    "X_test_sm = sm.add_constant(X_test)\n",
    "\n",
    "model_ols = sm.OLS(y_train, X_train_sm).fit()\n",
    "print(model_ols.summary())\n",
    "\n",
    "# Predict on test set\n",
    "y_pred_ols = model_ols.predict(X_test_sm)\n",
    "\n",
    "# Compute test RMSE\n",
    "rmse_ols = np.sqrt(mean_squared_error(y_test, y_pred_ols))\n",
    "print(f\"Test RMSE (OLS): {rmse_ols:,.2f} SGD\")"
   ]
  },
  {
   "cell_type": "code",
   "execution_count": 9,
   "id": "8ded706c",
   "metadata": {},
   "outputs": [
    {
     "name": "stdout",
     "output_type": "stream",
     "text": [
      "                    feature         VIF\n",
      "5             flat_type_ord  269.214980\n",
      "1            floor_area_sqm  226.197928\n",
      "0                      year  103.489183\n",
      "2     remaining_lease_years   54.996954\n",
      "6   distance_expressway_ord   29.104658\n",
      "3           num_nearby_mrts   10.015509\n",
      "4      nearest_mrt_distance    7.250054\n",
      "24             town_PUNGGOL    5.214292\n",
      "27            town_SENGKANG    4.856139\n",
      "7          storey_range_ord    4.622624\n"
     ]
    }
   ],
   "source": [
    "# check vif\n",
    "vif_df = pd.DataFrame()\n",
    "vif_df[\"feature\"] = X_train.columns\n",
    "vif_df[\"VIF\"] = [variance_inflation_factor(X_train.values, i) for i in range(X_train.shape[1])]\n",
    "print(vif_df.sort_values(by=\"VIF\", ascending=False).head(10))"
   ]
  },
  {
   "cell_type": "markdown",
   "id": "cccd2aea",
   "metadata": {},
   "source": [
    "<h2>Regularized linear models<h2>"
   ]
  },
  {
   "cell_type": "code",
   "execution_count": 10,
   "id": "86cb5ff0",
   "metadata": {},
   "outputs": [
    {
     "name": "stdout",
     "output_type": "stream",
     "text": [
      "Test RMSE Ridge: 66,565.31 SGD\n",
      "[Ridge] Best alpha: 0.054286754393238594\n",
      "Test RMSE Lasso: 66,565.32 SGD\n",
      "[Lasso] Best alpha: 0.01\n"
     ]
    }
   ],
   "source": [
    "# Candidate alpha values\n",
    "alphas = np.logspace(-2, 4, 50)\n",
    "\n",
    "# --- RidgeCV ---\n",
    "ridge_cv = RidgeCV(alphas=alphas, scoring='neg_mean_squared_error', cv=5)\n",
    "ridge_cv.fit(X_train, y_train)\n",
    "ridge_best_alpha = ridge_cv.alpha_\n",
    "y_pred_ridge = ridge_cv.predict(X_test)\n",
    "rmse_ridge = np.sqrt(mean_squared_error(y_test, y_pred_ridge))\n",
    "print(f\"Test RMSE Ridge: {rmse_ridge:,.2f} SGD\")\n",
    "print(f\"[Ridge] Best alpha: {ridge_best_alpha}\")\n",
    "\n",
    "\n",
    "# --- LassoCV ---\n",
    "lasso_cv = LassoCV(alphas=alphas, cv=5, max_iter=10000)\n",
    "lasso_cv.fit(X_train, y_train)\n",
    "lasso_best_alpha = lasso_cv.alpha_\n",
    "y_pred_lasso = lasso_cv.predict(X_test)\n",
    "mse_lasso = mean_squared_error(y_test, y_pred_lasso)\n",
    "rmse_lasso = np.sqrt(mean_squared_error(y_test, y_pred_lasso))\n",
    "print(f\"Test RMSE Lasso: {rmse_lasso:,.2f} SGD\")\n",
    "print(f\"[Lasso] Best alpha: {lasso_best_alpha}\")\n",
    "\n"
   ]
  },
  {
   "cell_type": "markdown",
   "id": "6656a8a9",
   "metadata": {},
   "source": [
    "<h2>log transform<h2>"
   ]
  },
  {
   "cell_type": "code",
   "execution_count": 11,
   "id": "d8c1dbd7",
   "metadata": {},
   "outputs": [
    {
     "name": "stdout",
     "output_type": "stream",
     "text": [
      "                            OLS Regression Results                            \n",
      "==============================================================================\n",
      "Dep. Variable:           resale_price   R-squared:                       0.874\n",
      "Model:                            OLS   Adj. R-squared:                  0.874\n",
      "Method:                 Least Squares   F-statistic:                 3.548e+04\n",
      "Date:                Tue, 13 May 2025   Prob (F-statistic):               0.00\n",
      "Time:                        03:20:56   Log-Likelihood:             1.2110e+05\n",
      "No. Observations:              169267   AIC:                        -2.421e+05\n",
      "Df Residuals:                  169233   BIC:                        -2.418e+05\n",
      "Df Model:                          33                                         \n",
      "Covariance Type:            nonrobust                                         \n",
      "===========================================================================================\n",
      "                              coef    std err          t      P>|t|      [0.025      0.975]\n",
      "-------------------------------------------------------------------------------------------\n",
      "const                     -77.5527      0.214   -362.098      0.000     -77.972     -77.133\n",
      "year                        0.0440      0.000    415.266      0.000       0.044       0.044\n",
      "floor_area_sqm              0.0083   4.32e-05    191.809      0.000       0.008       0.008\n",
      "remaining_lease_years       0.0107   2.82e-05    377.980      0.000       0.011       0.011\n",
      "num_nearby_mrts             0.0086      0.000     30.026      0.000       0.008       0.009\n",
      "nearest_mrt_distance       -0.0001   1.07e-06   -118.703      0.000      -0.000      -0.000\n",
      "flat_type_ord               0.0398      0.001     35.622      0.000       0.038       0.042\n",
      "distance_expressway_ord     0.0123      0.000     45.241      0.000       0.012       0.013\n",
      "storey_range_ord            0.0235      0.000    143.206      0.000       0.023       0.024\n",
      "town_BEDOK                 -0.0244      0.002    -13.255      0.000      -0.028      -0.021\n",
      "town_BISHAN                 0.1611      0.003     63.073      0.000       0.156       0.166\n",
      "town_BUKIT BATOK           -0.1600      0.002    -78.796      0.000      -0.164      -0.156\n",
      "town_BUKIT MERAH            0.1523      0.002     72.469      0.000       0.148       0.156\n",
      "town_BUKIT PANJANG         -0.3518      0.002   -146.038      0.000      -0.357      -0.347\n",
      "town_BUKIT TIMAH            0.2767      0.006     44.062      0.000       0.264       0.289\n",
      "town_CENTRAL AREA           0.3034      0.005     67.092      0.000       0.295       0.312\n",
      "town_CHOA CHU KANG         -0.3698      0.002   -182.280      0.000      -0.374      -0.366\n",
      "town_CLEMENTI               0.0910      0.002     38.664      0.000       0.086       0.096\n",
      "town_GEYLANG                0.0124      0.002      5.098      0.000       0.008       0.017\n",
      "town_HOUGANG               -0.1286      0.002    -67.090      0.000      -0.132      -0.125\n",
      "town_JURONG EAST           -0.1010      0.002    -41.731      0.000      -0.106      -0.096\n",
      "town_JURONG WEST           -0.2417      0.002   -132.986      0.000      -0.245      -0.238\n",
      "town_KALLANG/WHAMPOA        0.0741      0.002     32.561      0.000       0.070       0.079\n",
      "town_MARINE PARADE          0.4678      0.004    113.820      0.000       0.460       0.476\n",
      "town_PASIR RIS             -0.1381      0.002    -60.751      0.000      -0.143      -0.134\n",
      "town_PUNGGOL               -0.3499      0.002   -140.011      0.000      -0.355      -0.345\n",
      "town_QUEENSTOWN             0.1375      0.002     60.115      0.000       0.133       0.142\n",
      "town_SEMBAWANG             -0.3602      0.002   -155.112      0.000      -0.365      -0.356\n",
      "town_SENGKANG              -0.3646      0.002   -165.259      0.000      -0.369      -0.360\n",
      "town_SERANGOON              0.0639      0.003     24.899      0.000       0.059       0.069\n",
      "town_TAMPINES              -0.0770      0.002    -42.698      0.000      -0.081      -0.074\n",
      "town_TOA PAYOH              0.0538      0.002     25.116      0.000       0.050       0.058\n",
      "town_WOODLANDS             -0.3284      0.002   -180.413      0.000      -0.332      -0.325\n",
      "town_YISHUN                -0.1947      0.002   -106.759      0.000      -0.198      -0.191\n",
      "==============================================================================\n",
      "Omnibus:                     1832.578   Durbin-Watson:                   1.997\n",
      "Prob(Omnibus):                  0.000   Jarque-Bera (JB):             3191.005\n",
      "Skew:                          -0.014   Prob(JB):                         0.00\n",
      "Kurtosis:                       3.672   Cond. No.                     1.58e+06\n",
      "==============================================================================\n",
      "\n",
      "Notes:\n",
      "[1] Standard Errors assume that the covariance matrix of the errors is correctly specified.\n",
      "[2] The condition number is large, 1.58e+06. This might indicate that there are\n",
      "strong multicollinearity or other numerical problems.\n",
      "Test RMSE (log-OLS): 58,471.82 SGD\n"
     ]
    }
   ],
   "source": [
    "# Log-transform y\n",
    "y_train_log = np.log(y_train)\n",
    "y_test_log = np.log(y_test)\n",
    "\n",
    "# OLS \n",
    "model_ols_log = sm.OLS(y_train_log, X_train_sm).fit()\n",
    "print(model_ols_log.summary())\n",
    "\n",
    "y_pred_ols_log = model_ols_log.predict(X_test_sm)\n",
    "y_pred_ols = np.exp(y_pred_ols_log)  # Back-transform to original scale\n",
    "\n",
    "rmse_ols = np.sqrt(mean_squared_error(y_test, y_pred_ols))\n",
    "print(f\"Test RMSE (log-OLS): {rmse_ols:,.2f} SGD\")"
   ]
  },
  {
   "cell_type": "code",
   "execution_count": 12,
   "id": "a96338d4",
   "metadata": {},
   "outputs": [
    {
     "name": "stdout",
     "output_type": "stream",
     "text": [
      "Test RMSE (log-Ridge): 58,471.89 SGD\n",
      "Test RMSE (log-Lasso): 101,586.58 SGD\n"
     ]
    }
   ],
   "source": [
    "# Ridge after applying log transformation\n",
    "alphas = np.logspace(-2, 4, 50)\n",
    "ridge_cv = RidgeCV(alphas=alphas, scoring='neg_mean_squared_error', cv=5)\n",
    "ridge_cv.fit(X_train, y_train_log)\n",
    "y_pred_ridge_log = ridge_cv.predict(X_test)\n",
    "y_pred_ridge = np.exp(y_pred_ridge_log)\n",
    "\n",
    "rmse_ridge = np.sqrt(mean_squared_error(y_test, y_pred_ridge))\n",
    "print(f\"Test RMSE (log-Ridge): {rmse_ridge:,.2f} SGD\")\n",
    "\n",
    "# Lasso after applying log transformation\n",
    "lasso_cv = LassoCV(alphas=alphas, cv=5, max_iter=10000)\n",
    "lasso_cv.fit(X_train, y_train_log)\n",
    "y_pred_lasso_log = lasso_cv.predict(X_test)\n",
    "y_pred_lasso = np.exp(y_pred_lasso_log)\n",
    "\n",
    "rmse_lasso = np.sqrt(mean_squared_error(y_test, y_pred_lasso))\n",
    "print(f\"Test RMSE (log-Lasso): {rmse_lasso:,.2f} SGD\")\n",
    "\n"
   ]
  },
  {
   "cell_type": "markdown",
   "id": "30833ab5",
   "metadata": {},
   "source": [
    "<h2>Gamma Regression<h2>"
   ]
  },
  {
   "cell_type": "code",
   "execution_count": 13,
   "id": "96c4bf86",
   "metadata": {},
   "outputs": [
    {
     "name": "stderr",
     "output_type": "stream",
     "text": [
      "c:\\Users\\zyj25\\AppData\\Local\\Programs\\Python\\Python312\\Lib\\site-packages\\statsmodels\\genmod\\families\\links.py:13: FutureWarning: The log link alias is deprecated. Use Log instead. The log link alias will be removed after the 0.15.0 release.\n",
      "  warnings.warn(\n"
     ]
    },
    {
     "name": "stdout",
     "output_type": "stream",
     "text": [
      "                 Generalized Linear Model Regression Results                  \n",
      "==============================================================================\n",
      "Dep. Variable:           resale_price   No. Observations:               169267\n",
      "Model:                            GLM   Df Residuals:                   169233\n",
      "Model Family:                   Gamma   Df Model:                           33\n",
      "Link Function:                    log   Scale:                        0.014154\n",
      "Method:                          IRLS   Log-Likelihood:            -2.0872e+06\n",
      "Date:                Tue, 13 May 2025   Deviance:                       2369.7\n",
      "Time:                        03:21:22   Pearson chi2:                 2.40e+03\n",
      "No. Iterations:                    12   Pseudo R-squ. (CS):             0.9990\n",
      "Covariance Type:            nonrobust                                         \n",
      "===========================================================================================\n",
      "                              coef    std err          z      P>|z|      [0.025      0.975]\n",
      "-------------------------------------------------------------------------------------------\n",
      "const                     -76.9262      0.215   -357.238      0.000     -77.348     -76.504\n",
      "year                        0.0437      0.000    410.190      0.000       0.044       0.044\n",
      "floor_area_sqm              0.0083   4.35e-05    190.839      0.000       0.008       0.008\n",
      "remaining_lease_years       0.0106   2.83e-05    372.855      0.000       0.011       0.011\n",
      "num_nearby_mrts             0.0084      0.000     29.322      0.000       0.008       0.009\n",
      "nearest_mrt_distance       -0.0001   1.07e-06   -116.822      0.000      -0.000      -0.000\n",
      "flat_type_ord               0.0390      0.001     34.759      0.000       0.037       0.041\n",
      "distance_expressway_ord     0.0125      0.000     45.726      0.000       0.012       0.013\n",
      "storey_range_ord            0.0233      0.000    141.392      0.000       0.023       0.024\n",
      "town_BEDOK                 -0.0259      0.002    -14.000      0.000      -0.030      -0.022\n",
      "town_BISHAN                 0.1598      0.003     62.241      0.000       0.155       0.165\n",
      "town_BUKIT BATOK           -0.1620      0.002    -79.387      0.000      -0.166      -0.158\n",
      "town_BUKIT MERAH            0.1520      0.002     71.949      0.000       0.148       0.156\n",
      "town_BUKIT PANJANG         -0.3503      0.002   -144.615      0.000      -0.355      -0.346\n",
      "town_BUKIT TIMAH            0.2734      0.006     43.302      0.000       0.261       0.286\n",
      "town_CENTRAL AREA           0.3022      0.005     66.473      0.000       0.293       0.311\n",
      "town_CHOA CHU KANG         -0.3707      0.002   -181.737      0.000      -0.375      -0.367\n",
      "town_CLEMENTI               0.0911      0.002     38.495      0.000       0.086       0.096\n",
      "town_GEYLANG                0.0141      0.002      5.750      0.000       0.009       0.019\n",
      "town_HOUGANG               -0.1293      0.002    -67.105      0.000      -0.133      -0.126\n",
      "town_JURONG EAST           -0.1016      0.002    -41.728      0.000      -0.106      -0.097\n",
      "town_JURONG WEST           -0.2409      0.002   -131.812      0.000      -0.244      -0.237\n",
      "town_KALLANG/WHAMPOA        0.0767      0.002     33.502      0.000       0.072       0.081\n",
      "town_MARINE PARADE          0.4678      0.004    113.217      0.000       0.460       0.476\n",
      "town_PASIR RIS             -0.1414      0.002    -61.887      0.000      -0.146      -0.137\n",
      "town_PUNGGOL               -0.3488      0.003   -138.833      0.000      -0.354      -0.344\n",
      "town_QUEENSTOWN             0.1395      0.002     60.664      0.000       0.135       0.144\n",
      "town_SEMBAWANG             -0.3600      0.002   -154.210      0.000      -0.365      -0.355\n",
      "town_SENGKANG              -0.3620      0.002   -163.208      0.000      -0.366      -0.358\n",
      "town_SERANGOON              0.0616      0.003     23.851      0.000       0.057       0.067\n",
      "town_TAMPINES              -0.0792      0.002    -43.662      0.000      -0.083      -0.076\n",
      "town_TOA PAYOH              0.0543      0.002     25.241      0.000       0.050       0.059\n",
      "town_WOODLANDS             -0.3278      0.002   -179.141      0.000      -0.331      -0.324\n",
      "town_YISHUN                -0.1964      0.002   -107.129      0.000      -0.200      -0.193\n",
      "===========================================================================================\n",
      "Test RMSE (Gamma): 58,332.58 SGD\n"
     ]
    }
   ],
   "source": [
    "# Fit Gamma regression model with log link\n",
    "model_gamma = sm.GLM(y_train, X_train_sm, family=Gamma(link=log_link()))\n",
    "results_gamma = model_gamma.fit()\n",
    "\n",
    "# Summary of coefficients (like summary(model_gamma) in R)\n",
    "print(results_gamma.summary())\n",
    "\n",
    "# Predict on test set (on original scale)\n",
    "y_pred_gamma = results_gamma.predict(X_test_sm)\n",
    "\n",
    "# Compute Test RMSE\n",
    "mse_gamma = mean_squared_error(y_test, y_pred_gamma)\n",
    "rmse_gamma = np.sqrt(mse_gamma)\n",
    "print(f\"Test RMSE (Gamma): {rmse_gamma:,.2f} SGD\")"
   ]
  },
  {
   "cell_type": "code",
   "execution_count": 14,
   "id": "a2253220",
   "metadata": {},
   "outputs": [
    {
     "name": "stderr",
     "output_type": "stream",
     "text": [
      "<>:25: SyntaxWarning: invalid escape sequence '\\h'\n",
      "<>:27: SyntaxWarning: invalid escape sequence '\\h'\n",
      "<>:25: SyntaxWarning: invalid escape sequence '\\h'\n",
      "<>:27: SyntaxWarning: invalid escape sequence '\\h'\n",
      "C:\\Users\\zyj25\\AppData\\Local\\Temp\\ipykernel_31428\\1215054935.py:25: SyntaxWarning: invalid escape sequence '\\h'\n",
      "  plt.xlabel(\"Average predicted mean $\\hat{\\\\mu}$\")\n",
      "C:\\Users\\zyj25\\AppData\\Local\\Temp\\ipykernel_31428\\1215054935.py:27: SyntaxWarning: invalid escape sequence '\\h'\n",
      "  plt.title(\"Empirical Var($Y$) vs $\\hat{\\\\mu}$\")\n",
      "C:\\Users\\zyj25\\AppData\\Local\\Temp\\ipykernel_31428\\1215054935.py:15: FutureWarning: The default of observed=False is deprecated and will be changed to True in a future version of pandas. Pass observed=False to retain current behavior or observed=True to adopt the future default and silence this warning.\n",
      "  grouped = df_diag.groupby('bin').agg(\n"
     ]
    },
    {
     "data": {
      "image/png": "[encoded data removed]",
      "text/plain": [
       "<Figure size 600x400 with 1 Axes>"
      ]
     },
     "metadata": {},
     "output_type": "display_data"
    }
   ],
   "source": [
    "# check Gamma Regression assumption: variance is proportional to mean square\n",
    "y_true = np.asarray(y_test)\n",
    "mu_hat = np.asarray(y_pred_gamma)\n",
    "\n",
    "df_diag = pd.DataFrame({\n",
    "    'y_true': y_true,\n",
    "    'mu_hat': mu_hat\n",
    "})\n",
    "\n",
    "# Bin mu_hat\n",
    "n_bins = 100\n",
    "df_diag['bin'] = pd.qcut(df_diag['mu_hat'], q=n_bins, duplicates='drop')\n",
    "\n",
    "# each bin, compute sample variance \n",
    "grouped = df_diag.groupby('bin').agg(\n",
    "    avg_mu=('mu_hat', 'mean'),\n",
    "    var_y = ('y_true', 'var')\n",
    ").reset_index(drop=True)\n",
    "\n",
    "# Plot\n",
    "plt.figure(figsize=(6, 4))\n",
    "plt.scatter(grouped['avg_mu'], grouped['var_y'], s=50, alpha=0.7)\n",
    "plt.plot(grouped['avg_mu'], grouped['avg_mu']**2 * grouped['var_y'].mean() / (grouped['avg_mu']**2).mean(),\n",
    "         color='red', linestyle='--', label=r'$\\propto \\mu^2$')\n",
    "plt.xlabel(\"Average predicted mean $\\hat{\\\\mu}$\")\n",
    "plt.ylabel(\"Sample variance of $Y$\")\n",
    "plt.title(\"Empirical Var($Y$) vs $\\hat{\\\\mu}$\")\n",
    "plt.legend()\n",
    "plt.grid(True)\n",
    "plt.show()"
   ]
  },
  {
   "cell_type": "code",
   "execution_count": 15,
   "id": "d63c302d",
   "metadata": {},
   "outputs": [
    {
     "name": "stdout",
     "output_type": "stream",
     "text": [
      "                            OLS Regression Results                            \n",
      "==============================================================================\n",
      "Dep. Variable:           resale_price   R-squared:                       0.036\n",
      "Model:                            OLS   Adj. R-squared:                  0.036\n",
      "Method:                 Least Squares   F-statistic:                     1590.\n",
      "Date:                Tue, 13 May 2025   Prob (F-statistic):               0.00\n",
      "Time:                        03:21:23   Log-Likelihood:                -93174.\n",
      "No. Observations:               42317   AIC:                         1.864e+05\n",
      "Df Residuals:                   42315   BIC:                         1.864e+05\n",
      "Df Model:                           1                                         \n",
      "Covariance Type:            nonrobust                                         \n",
      "==============================================================================\n",
      "                 coef    std err          t      P>|t|      [0.025      0.975]\n",
      "------------------------------------------------------------------------------\n",
      "const          2.6467      0.450      5.886      0.000       1.765       3.528\n",
      "x1             1.3732      0.034     39.870      0.000       1.306       1.441\n",
      "==============================================================================\n",
      "Omnibus:                    13559.495   Durbin-Watson:                   1.998\n",
      "Prob(Omnibus):                  0.000   Jarque-Bera (JB):            50917.249\n",
      "Skew:                          -1.580   Prob(JB):                         0.00\n",
      "Kurtosis:                       7.346   Cond. No.                         555.\n",
      "==============================================================================\n",
      "\n",
      "Notes:\n",
      "[1] Standard Errors assume that the covariance matrix of the errors is correctly specified.\n"
     ]
    }
   ],
   "source": [
    "log_resid2 = np.log((y_test - mu_hat)**2)\n",
    "log_mu = np.log(mu_hat)\n",
    "\n",
    "X_reg = sm.add_constant(log_mu)\n",
    "model_var = sm.OLS(log_resid2, X_reg).fit()\n",
    "print(model_var.summary())"
   ]
  },
  {
   "cell_type": "markdown",
   "id": "da215226",
   "metadata": {},
   "source": [
    "<h2>proportional odds logistic model<h2>"
   ]
  },
  {
   "cell_type": "code",
   "execution_count": 16,
   "id": "fc2a133e",
   "metadata": {},
   "outputs": [
    {
     "name": "stdout",
     "output_type": "stream",
     "text": [
      "                             OrderedModel Results                             \n",
      "==============================================================================\n",
      "Dep. Variable:                  y_ord   Log-Likelihood:            -2.3412e+05\n",
      "Model:                   OrderedModel   AIC:                         4.683e+05\n",
      "Method:            Maximum Likelihood   BIC:                         4.687e+05\n",
      "Date:                Tue, 13 May 2025                                         \n",
      "Time:                        03:35:57                                         \n",
      "No. Observations:              169267                                         \n",
      "Df Residuals:                  169225                                         \n",
      "Df Model:                          33                                         \n",
      "===========================================================================================\n",
      "                              coef    std err          z      P>|z|      [0.025      0.975]\n",
      "-------------------------------------------------------------------------------------------\n",
      "year                        0.6917        nan        nan        nan         nan         nan\n",
      "floor_area_sqm              0.1290        nan        nan        nan         nan         nan\n",
      "remaining_lease_years       0.1629        nan        nan        nan         nan         nan\n",
      "num_nearby_mrts             0.1352        nan        nan        nan         nan         nan\n",
      "nearest_mrt_distance       -0.0020        nan        nan        nan         nan         nan\n",
      "flat_type_ord               0.5084        nan        nan        nan         nan         nan\n",
      "distance_expressway_ord     0.1724        nan        nan        nan         nan         nan\n",
      "storey_range_ord            0.3599        nan        nan        nan         nan         nan\n",
      "town_BEDOK                 -0.4169        nan        nan        nan         nan         nan\n",
      "town_BISHAN                 2.4498        nan        nan        nan         nan         nan\n",
      "town_BUKIT BATOK           -2.4546        nan        nan        nan         nan         nan\n",
      "town_BUKIT MERAH            2.3393        nan        nan        nan         nan         nan\n",
      "town_BUKIT PANJANG         -5.4749        nan        nan        nan         nan         nan\n",
      "town_BUKIT TIMAH          208.3026        nan        nan        nan         nan         nan\n",
      "town_CENTRAL AREA           4.9833        nan        nan        nan         nan         nan\n",
      "town_CHOA CHU KANG         -5.6204        nan        nan        nan         nan         nan\n",
      "town_CLEMENTI               1.3526        nan        nan        nan         nan         nan\n",
      "town_GEYLANG                0.2400        nan        nan        nan         nan         nan\n",
      "town_HOUGANG               -2.0030        nan        nan        nan         nan         nan\n",
      "town_JURONG EAST           -1.5141        nan        nan        nan         nan         nan\n",
      "town_JURONG WEST           -3.8013        nan        nan        nan         nan         nan\n",
      "town_KALLANG/WHAMPOA        0.9610        nan        nan        nan         nan         nan\n",
      "town_MARINE PARADE          7.1442        nan        nan        nan         nan         nan\n",
      "town_PASIR RIS             -2.0532        nan        nan        nan         nan         nan\n",
      "town_PUNGGOL               -5.3553        nan        nan        nan         nan         nan\n",
      "town_QUEENSTOWN             2.1570        nan        nan        nan         nan         nan\n",
      "town_SEMBAWANG             -5.3752        nan        nan        nan         nan         nan\n",
      "town_SENGKANG              -5.6279        nan        nan        nan         nan         nan\n",
      "town_SERANGOON              1.0053        nan        nan        nan         nan         nan\n",
      "town_TAMPINES              -1.1716        nan        nan        nan         nan         nan\n",
      "town_TOA PAYOH              0.8262        nan        nan        nan         nan         nan\n",
      "town_WOODLANDS             -5.0996        nan        nan        nan         nan         nan\n",
      "town_YISHUN                -2.9903        nan        nan        nan         nan         nan\n",
      "1/2                      1416.1219        nan        nan        nan         nan         nan\n",
      "2/3                         0.7513        nan        nan        nan         nan         nan\n",
      "3/4                         0.4981        nan        nan        nan         nan         nan\n",
      "4/5                         0.4325        nan        nan        nan         nan         nan\n",
      "5/6                         0.1787        nan        nan        nan         nan         nan\n",
      "6/7                         0.3184        nan        nan        nan         nan         nan\n",
      "7/8                         0.3104        nan        nan        nan         nan         nan\n",
      "8/9                         0.5227        nan        nan        nan         nan         nan\n",
      "9/10                        0.8106        nan        nan        nan         nan         nan\n",
      "===========================================================================================\n"
     ]
    },
    {
     "name": "stderr",
     "output_type": "stream",
     "text": [
      "c:\\Users\\zyj25\\AppData\\Local\\Programs\\Python\\Python312\\Lib\\site-packages\\statsmodels\\base\\model.py:595: HessianInversionWarning: Inverting hessian failed, no bse or cov_params available\n",
      "  warnings.warn('Inverting hessian failed, no bse or cov_params '\n"
     ]
    }
   ],
   "source": [
    "# Create decile-based bin cutpoints\n",
    "quantiles = np.quantile(y_train, q=np.linspace(0, 1, 11))\n",
    "\n",
    "# Ensure no duplicated cutpoints\n",
    "for i in range(1, len(quantiles)):\n",
    "    if quantiles[i] <= quantiles[i-1]:\n",
    "        quantiles[i] = quantiles[i-1] + 1e-5 \n",
    "        \n",
    "\n",
    "# Discretize y_train into 10 ordered bins (1 to 10)\n",
    "y_train_ord = pd.cut(y_train, bins=quantiles, labels=False, include_lowest=True) + 1\n",
    "y_train_ord = pd.Series(y_train_ord, name='y_ord').astype(\"category\")\n",
    "y_train_ord = y_train_ord.cat.as_ordered()\n",
    "\n",
    "# Fit proportional odds logistic model\n",
    "train_ord_df = pd.concat([y_train_ord, X_train], axis=1)\n",
    "model_polr = OrderedModel(\n",
    "    endog=train_ord_df[\"y_ord\"],\n",
    "    exog=train_ord_df.drop(columns=\"y_ord\"),\n",
    "    distr=\"logit\"  \n",
    ")\n",
    "\n",
    "result_polr = model_polr.fit(method=\"bfgs\", disp=False)\n",
    "print(result_polr.summary())"
   ]
  }
 ],
 "metadata": {
  "kernelspec": {
   "display_name": "Python 3",
   "language": "python",
   "name": "python3"
  },
  "language_info": {
   "codemirror_mode": {
    "name": "ipython",
    "version": 3
   },
   "file_extension": ".py",
   "mimetype": "text/x-python",
   "name": "python",
   "nbconvert_exporter": "python",
   "pygments_lexer": "ipython3",
   "version": "3.12.5"
  }
 },
 "nbformat": 4,
 "nbformat_minor": 5
}
